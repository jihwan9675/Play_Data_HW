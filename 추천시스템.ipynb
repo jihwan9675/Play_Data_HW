{
 "cells": [
  {
   "cell_type": "code",
   "execution_count": 17,
   "metadata": {},
   "outputs": [
    {
     "name": "stdout",
     "output_type": "stream",
     "text": [
      "한, 중, 일, 양식을 추천해드릴까요? (y/n)n\n",
      "1) 한식 2) 중식 3) 일식 4) 양식 중 골라주세요 (입력값:숫자1~4) : 2\n",
      "해당 음식 데이터가 없습니다.\n",
      "한, 중, 일, 양식을 추천해드릴까요? (y/n)y\n",
      "양식을 추천드립니다 !\n",
      "한, 중, 일, 양식을 추천해드릴까요? (y/n)n\n",
      "1) 한식 2) 중식 3) 일식 4) 양식 중 골라주세요 (입력값:숫자1~4) : 3\n",
      "스시환을 추천드립니다.\n"
     ]
    }
   ],
   "source": [
    "import random\n",
    "#f = open(\"C:\\\\Users\\\\playdata\\\\Desktop\\\\food.txt\", 'r')\n",
    "food_list = [[\"단풍애김밥\",\"충무김밥\", \"서관면옥\", \"교대곱창\", \"전주콩나물국밥집\", \"신촌설렁탕\", \"북창동순두부\",\"깐부점심뷔페\",\"왕산골명가\", \"강찬구진순대\", \"매화\",\"송황칼국수\", \"국대떡볶이\", \"한솥도시락\", \"봉산옥\",\"레몬그라스 타이\",\"장꼬방묵은김치찌개\"],[],[\"스시 36.5\",\"스시환\",\"금화왕돈까스\"],[\"노브랜드버거\",\"루엘드 파리\", \"라크레모사\", \"허수아비 돈까스\"]]\n",
    "\n",
    "country_list=[\"한식\",\"중식\",\"일식\",\"양식\"]\n",
    "\n",
    "while True:\n",
    "    recom = input(\"한, 중, 일, 양식을 추천해드릴까요? (y/n)\")\n",
    "    if recom == 'y':\n",
    "        print(country_list[random.randint(0,len(country_list))] + \"을 추천드립니다 !\")\n",
    "    elif recom =='n':\n",
    "        while True:\n",
    "            choose_list =  int(input(\"1) 한식 2) 중식 3) 일식 4) 양식 중 골라주세요 (입력값:숫자1~4) : \"))\n",
    "            if not 0<=choose_list<5:\n",
    "                print(\"올바른 값을 입력하시오.\")\n",
    "            else:\n",
    "                break\n",
    "        if len(food_list[choose_list-1])==0:\n",
    "            print(\"해당 음식 데이터가 없습니다.\")\n",
    "            continue\n",
    "        print(food_list[choose_list-1][random.randint(0,len(food_list[choose_list-1])-1)]+\"을 추천드립니다.\")\n",
    "        break\n",
    "    #elif recom=\"z\":\n",
    "    else:\n",
    "        print(\"올바른 값을 입력하시오.\")\n",
    "#f.close()"
   ]
  },
  {
   "cell_type": "code",
   "execution_count": null,
   "metadata": {},
   "outputs": [],
   "source": []
  }
 ],
 "metadata": {
  "kernelspec": {
   "display_name": "Python 3",
   "language": "python",
   "name": "python3"
  },
  "language_info": {
   "codemirror_mode": {
    "name": "ipython",
    "version": 3
   },
   "file_extension": ".py",
   "mimetype": "text/x-python",
   "name": "python",
   "nbconvert_exporter": "python",
   "pygments_lexer": "ipython3",
   "version": "3.8.3"
  }
 },
 "nbformat": 4,
 "nbformat_minor": 4
}
