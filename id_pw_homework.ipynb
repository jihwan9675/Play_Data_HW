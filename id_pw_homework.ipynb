{
 "cells": [
  {
   "cell_type": "code",
   "execution_count": 7,
   "metadata": {},
   "outputs": [
    {
     "name": "stdout",
     "output_type": "stream",
     "text": [
      "ID : admin\n",
      "PW : ad\n",
      "패스워드를 확인하세요!\n",
      "\n",
      "패스워드를 찾으시겠습니까? (y/n)y\n",
      "당신의 아이디를 입력하시오.ad\n",
      "ID : admin\n",
      "PW : a\n",
      "패스워드를 확인하세요!\n",
      "\n",
      "패스워드를 찾으시겠습니까? (y/n)y\n",
      "당신의 아이디를 입력하시오.admin\n",
      "새로운 암호를 입력하시오 : kkk\n",
      "변경완료 !\n",
      "ID : admin\n",
      "PW : kkk\n",
      "로그인 !\n"
     ]
    }
   ],
   "source": [
    "ID = \"admin\"\n",
    "PW = \"root\"\n",
    "Phone_Number = \"010-1234-5678\"\n",
    "mail=\"admin@playdata.com\"\n",
    "login=False\n",
    "\n",
    "your_id = \"\"; your_pw=\"\"; your_pn=\"\"; your_mail=\"\"\n",
    "\n",
    "while True:\n",
    "    input_id = input(\"ID : \")\n",
    "    input_pw = input(\"PW : \")\n",
    "    if ID==input_id and PW==input_pw:\n",
    "        print(\"로그인 !\")\n",
    "        break\n",
    "    else:\n",
    "        if ID!=input_id:\n",
    "            print(\"아이디 확인하세요!\\n\")\n",
    "            check = input(\"아이디를 찾으시겠습니까?(y/n)\")\n",
    "            if check == \"y\":\n",
    "                your_pn = input(\"당신의 핸드폰 번호를 입력하시오.\")\n",
    "                if your_pn == Phone_Number:\n",
    "                    print(\"당신의 아이디는 \"+ID+\" 입니다.\")\n",
    "        elif PW!=input_pw:\n",
    "            print(\"패스워드를 확인하세요!\\n\")\n",
    "            check = input(\"패스워드를 찾으시겠습니까? (y/n)\")\n",
    "            if check == \"y\":\n",
    "                your_id = input(\"당신의 아이디를 입력하시오.\")\n",
    "            if your_id == ID:\n",
    "                PW = input(\"새로운 암호를 입력하시오 : \")\n",
    "                print(\"변경완료 !\")"
   ]
  },
  {
   "cell_type": "code",
   "execution_count": null,
   "metadata": {},
   "outputs": [],
   "source": []
  }
 ],
 "metadata": {
  "kernelspec": {
   "display_name": "Python 3",
   "language": "python",
   "name": "python3"
  },
  "language_info": {
   "codemirror_mode": {
    "name": "ipython",
    "version": 3
   },
   "file_extension": ".py",
   "mimetype": "text/x-python",
   "name": "python",
   "nbconvert_exporter": "python",
   "pygments_lexer": "ipython3",
   "version": "3.8.3"
  }
 },
 "nbformat": 4,
 "nbformat_minor": 4
}
