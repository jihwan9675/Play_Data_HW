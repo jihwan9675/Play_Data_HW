{
 "cells": [
  {
   "cell_type": "code",
   "execution_count": 92,
   "metadata": {},
   "outputs": [],
   "source": [
    "참고 : https://pbj0812.tistory.com/184\n"
    "import gspread\n",
    "from oauth2client.service_account import ServiceAccountCredentials\n",
    "import random as rd"
   ]
  },
  {
   "cell_type": "code",
   "execution_count": 93,
   "metadata": {},
   "outputs": [],
   "source": [
    "# Google API 사용방법\n",
    "json_file_name = 'C:\\\\Users\\\\Playdata/spreadsheet-292606-2a5df820ad04.json'\n",
    "scope = ['https://spreadsheets.google.com/feeds']\n",
    "credentials = ServiceAccountCredentials.from_json_keyfile_name(json_file_name, scope)\n",
    "gc = gspread.authorize(credentials)\n",
    "spreadsheet_url = 'https://docs.google.com/spreadsheets/d/1kr_kPO0ORKdjCT2SeRw3iNAaxkP_70y4E57hNp6MX0k/edit?usp=sharing'"
   ]
  },
  {
   "cell_type": "code",
   "execution_count": 94,
   "metadata": {},
   "outputs": [],
   "source": [
    "doc = gc.open_by_url(spreadsheet_url)\n",
    "# a 시트 불러오기\n",
    "worksheet = doc.worksheet('a')"
   ]
  },
  {
   "cell_type": "code",
   "execution_count": 95,
   "metadata": {},
   "outputs": [],
   "source": [
    "column_data = worksheet.col_values(1) #세로줄(열) 퍼오기\n",
    "\n",
    "column_data=column_data[3:] # 상호명 리스트\n",
    "#print(column_data)"
   ]
  },
  {
   "cell_type": "code",
   "execution_count": 96,
   "metadata": {},
   "outputs": [
    {
     "name": "stdout",
     "output_type": "stream",
     "text": [
      "오늘은 깐부점심뷔페 을(를) 추천드립니다.\n"
     ]
    }
   ],
   "source": [
    "recom = rd.randint(0,len(column_data)-1)\n",
    "print(\"오늘은 \"+column_data[recom]+\" 을(를) 추천드립니다.\")"
   ]
  },
  {
   "cell_type": "code",
   "execution_count": 97,
   "metadata": {},
   "outputs": [
    {
     "name": "stdout",
     "output_type": "stream",
     "text": [
      "별점은 : 7.5\n",
      "가격대는 : 6500\n",
      "리뷰 : 저렴하고 맛도 무난한 점심뷔페\n"
     ]
    }
   ],
   "source": [
    "row_data = worksheet.row_values(recom+4) #가로줄(행) 퍼오기\n",
    "\n",
    "#print(\"링크주소 : \"+row_data[1])\n",
    "# print(\"주소는 : \"+row_data[2])\n",
    "print(\"별점은 : \"+row_data[3])\n",
    "print(\"가격대는 : \"+row_data[4])\n",
    "print(\"리뷰 : \"+row_data[5])"
   ]
  },
  {
   "cell_type": "code",
   "execution_count": null,
   "metadata": {},
   "outputs": [],
   "source": []
  }
 ],
 "metadata": {
  "kernelspec": {
   "display_name": "Python 3",
   "language": "python",
   "name": "python3"
  },
  "language_info": {
   "codemirror_mode": {
    "name": "ipython",
    "version": 3
   },
   "file_extension": ".py",
   "mimetype": "text/x-python",
   "name": "python",
   "nbconvert_exporter": "python",
   "pygments_lexer": "ipython3",
   "version": "3.8.3"
  }
 },
 "nbformat": 4,
 "nbformat_minor": 4
}
